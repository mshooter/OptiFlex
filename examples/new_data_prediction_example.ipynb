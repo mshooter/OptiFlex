{
 "cells": [
  {
   "cell_type": "markdown",
   "metadata": {},
   "source": [
    "# OptiFlex - New Data Prediction Example"
   ]
  },
  {
   "cell_type": "markdown",
   "metadata": {},
   "source": [
    "For setup, we specifyour working directory and import the necessary modules"
   ]
  },
  {
   "cell_type": "code",
   "execution_count": 5,
   "metadata": {},
   "outputs": [
    {
     "name": "stdout",
     "output_type": "stream",
     "text": [
      "Current Working Directory  /Users/eiddeuil/Desktop/WaveMoto\n"
     ]
    }
   ],
   "source": [
    "import os\n",
    "path = \"/Users/eiddeuil/Desktop/WaveMoto\" \n",
    "os.chdir(path)\n",
    "print(\"Current Working Directory \" , os.getcwd())"
   ]
  },
  {
   "cell_type": "code",
   "execution_count": 10,
   "metadata": {},
   "outputs": [],
   "source": [
    "from keras.models import load_model\n",
    "from utils.eval_func import grp_eval_pck\n",
    "from training.post_train import inference, get_joint_list, print_pck"
   ]
  },
  {
   "cell_type": "markdown",
   "metadata": {},
   "source": [
    "### 1. Load Pre-Trained Model"
   ]
  },
  {
   "cell_type": "code",
   "execution_count": 11,
   "metadata": {},
   "outputs": [],
   "source": [
    "fast_flow_model = \"examples/model/\" + \"LEAP_fruitfly_40frame_1ep_0.0001lr_10bs_08_46AM-January-21-2020.model\"\n",
    "model = load_model(fast_flow_model)\n",
    "model._make_predict_function()"
   ]
  },
  {
   "cell_type": "markdown",
   "metadata": {},
   "source": [
    "### 2. Specify Folder Locations and Inference Parameters"
   ]
  },
  {
   "cell_type": "markdown",
   "metadata": {},
   "source": [
    "Inference Parameters:"
   ]
  },
  {
   "cell_type": "code",
   "execution_count": 12,
   "metadata": {},
   "outputs": [],
   "source": [
    "num_stage = 1\n",
    "dataset_animal = \"fruitfly\"\n",
    "joint_list = get_joint_list(dataset_animal)"
   ]
  },
  {
   "cell_type": "markdown",
   "metadata": {},
   "source": [
    "Folder Locations:"
   ]
  },
  {
   "cell_type": "code",
   "execution_count": 13,
   "metadata": {},
   "outputs": [],
   "source": [
    "dataset_folder = \"examples/dataset/\"\n",
    "test_img_folder = \"examples/dataset/tst_set_\" + dataset_animal + \"/img/\"\n",
    "test_lbl_folder = \"examples/dataset/tst_set_\" + dataset_animal + \"/lbl/\"\n",
    "pred_js_folder = \"examples/dataset/pred_js_lbl\"\n",
    "pred_hm_folder = \"examples/dataset/pred_hm_lbl\""
   ]
  },
  {
   "cell_type": "markdown",
   "metadata": {},
   "source": [
    "### 3. Inference"
   ]
  },
  {
   "cell_type": "code",
   "execution_count": 14,
   "metadata": {},
   "outputs": [
    {
     "name": "stdout",
     "output_type": "stream",
     "text": [
      "converted predictions to labels\n",
      "done\n"
     ]
    }
   ],
   "source": [
    "inference(model, num_stage, dataset_animal, test_img_folder, pred_js_folder, pred_hm_folder, dataset_folder)"
   ]
  },
  {
   "cell_type": "markdown",
   "metadata": {},
   "source": [
    "### 4. PCK Evaluation"
   ]
  },
  {
   "cell_type": "code",
   "execution_count": 15,
   "metadata": {},
   "outputs": [
    {
     "name": "stdout",
     "output_type": "stream",
     "text": [
      "PCK evaluation processed: |>>>>>>>>>>>>>>>>>>>>>>>>>>>>>>>>>>>>>>>>>>>>>>>>>>| 100.00% \n",
      "head ((0.9232877429402743, 0.1468071801386379), (0.9933333333333333, 0.08137703743822468))\n",
      "eyeL ((0.9331327304791931, 0.08212484963936878), (1.0, 0.0))\n",
      "eyeR ((0.9310067144476939, 0.10719211562333283), (1.0, 0.0))\n",
      "neck ((0.9546225786168278, 0.04988612303138132), (1.0, 0.0))\n",
      "thorax ((0.9275271631133118, 0.10642516237920599), (0.9966666666666667, 0.05763872155263527))\n",
      "abdomen ((0.9262731638371315, 0.08336154957218452), (1.0, 0.0))\n",
      "forelegR1 ((0.892239914831714, 0.15021916657494702), (0.9866666666666667, 0.11469767022723504))\n",
      "forelegR2 ((0.6444648202606538, 0.34036309286483607), (0.8866666666666667, 0.3169998247458331))\n",
      "forelegR3 ((0.6347186784589037, 0.3799276160852059), (0.8066666666666666, 0.39491208585653026))\n",
      "forelegR4 ((0.8271951403636377, 0.2800968214395608), (0.9233333333333333, 0.2660618140374317))\n",
      "midlegR1 ((0.8470698955620548, 0.22725468505338364), (0.9733333333333334, 0.16110727964792762))\n",
      "midlegR2 ((0.7956391389642214, 0.26004052250270004), (0.9566666666666667, 0.20360637405433937))\n",
      "midlegR3 ((0.7100483628399422, 0.35370179929409196), (0.88, 0.32496153618543844))\n",
      "midlegR4 ((0.8004676579237241, 0.30917479165693385), (0.8866666666666667, 0.3169998247458331))\n",
      "hindlegR1 ((0.8272967304592731, 0.20282291581081144), (0.9933333333333333, 0.08137703743822468))\n",
      "hindlegR2 ((0.7162876075114649, 0.32334740592703204), (0.9, 0.3))\n",
      "hindlegR3 ((0.6692238446734756, 0.3539737424259724), (0.84, 0.3666060555964672))\n",
      "hindlegR4 ((0.4424796005723061, 0.4035294013007583), (0.64, 0.48000000000000004))\n",
      "forelegL1 ((0.9110135489012331, 0.11923963308105599), (1.0, 0.0))\n",
      "forelegL2 ((0.6778238643945597, 0.3228012287243533), (0.92, 0.2712931993250107))\n",
      "forelegL3 ((0.6730557138301414, 0.3522880038864607), (0.85, 0.3570714214271425))\n",
      "forelegL4 ((0.8355172379662412, 0.2835832258096793), (0.9133333333333333, 0.28134597128012256))\n",
      "midlegL1 ((0.8165369085532111, 0.22424993656289618), (0.9866666666666667, 0.11469767022723505))\n",
      "midlegL2 ((0.7144319896814201, 0.3066692951706689), (0.9166666666666666, 0.2763853991962833))\n",
      "midlegL3 ((0.7465783775308454, 0.3291230847592058), (0.8866666666666667, 0.3169998247458331))\n",
      "midlegL4 ((0.7924036884738997, 0.29956601337827515), (0.8966666666666666, 0.3043937508483963))\n",
      "hindlegL1 ((0.8100587025832812, 0.21271837675597413), (0.9766666666666667, 0.15095989165632337))\n",
      "hindlegL2 ((0.6480266025413088, 0.3733981939095348), (0.81, 0.39230090491866065))\n",
      "hindlegL3 ((0.6429491854819719, 0.36449275879991533), (0.81, 0.39230090491866065))\n",
      "hindlegL4 ((0.5478929408458182, 0.40325815574311447), (0.72, 0.44899888641287294))\n",
      "wingL ((0.8988161501490314, 0.16515287927381042), (0.9833333333333333, 0.12801909579781018))\n",
      "wingR ((0.8868918866419933, 0.18867130481526656), (0.9766666666666667, 0.15095989165632337))\n"
     ]
    }
   ],
   "source": [
    "results = grp_eval_pck(pred_js_folder, test_lbl_folder, joint_list)\n",
    "print_pck(results)"
   ]
  }
 ],
 "metadata": {
  "kernelspec": {
   "display_name": "Python 3",
   "language": "python",
   "name": "python3"
  },
  "language_info": {
   "codemirror_mode": {
    "name": "ipython",
    "version": 3
   },
   "file_extension": ".py",
   "mimetype": "text/x-python",
   "name": "python",
   "nbconvert_exporter": "python",
   "pygments_lexer": "ipython3",
   "version": "3.7.5"
  }
 },
 "nbformat": 4,
 "nbformat_minor": 4
}
