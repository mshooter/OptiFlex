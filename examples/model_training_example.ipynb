{
 "cells": [
  {
   "cell_type": "markdown",
   "metadata": {},
   "source": [
    "# OptiFlex - Model Training Example"
   ]
  },
  {
   "cell_type": "markdown",
   "metadata": {},
   "source": [
    "For setup, we specifyour working directory and import the necessary modules"
   ]
  },
  {
   "cell_type": "code",
   "execution_count": 13,
   "metadata": {},
   "outputs": [
    {
     "name": "stdout",
     "output_type": "stream",
     "text": [
      "Current Working Directory  /Users/eiddeuil/Desktop/WaveMoto\n"
     ]
    }
   ],
   "source": [
    "import os\n",
    "path = \"/Users/eiddeuil/Desktop/WaveMoto\" \n",
    "os.chdir(path)\n",
    "print(\"Current Working Directory \" , os.getcwd())"
   ]
  },
  {
   "cell_type": "code",
   "execution_count": 5,
   "metadata": {},
   "outputs": [
    {
     "name": "stderr",
     "output_type": "stream",
     "text": [
      "Using TensorFlow backend.\n",
      "/usr/local/lib/python3.7/site-packages/tensorflow/python/framework/dtypes.py:516: FutureWarning: Passing (type, 1) or '1type' as a synonym of type is deprecated; in a future version of numpy, it will be understood as (type, (1,)) / '(1,)type'.\n",
      "  _np_qint8 = np.dtype([(\"qint8\", np.int8, 1)])\n",
      "/usr/local/lib/python3.7/site-packages/tensorflow/python/framework/dtypes.py:517: FutureWarning: Passing (type, 1) or '1type' as a synonym of type is deprecated; in a future version of numpy, it will be understood as (type, (1,)) / '(1,)type'.\n",
      "  _np_quint8 = np.dtype([(\"quint8\", np.uint8, 1)])\n",
      "/usr/local/lib/python3.7/site-packages/tensorflow/python/framework/dtypes.py:518: FutureWarning: Passing (type, 1) or '1type' as a synonym of type is deprecated; in a future version of numpy, it will be understood as (type, (1,)) / '(1,)type'.\n",
      "  _np_qint16 = np.dtype([(\"qint16\", np.int16, 1)])\n",
      "/usr/local/lib/python3.7/site-packages/tensorflow/python/framework/dtypes.py:519: FutureWarning: Passing (type, 1) or '1type' as a synonym of type is deprecated; in a future version of numpy, it will be understood as (type, (1,)) / '(1,)type'.\n",
      "  _np_quint16 = np.dtype([(\"quint16\", np.uint16, 1)])\n",
      "/usr/local/lib/python3.7/site-packages/tensorflow/python/framework/dtypes.py:520: FutureWarning: Passing (type, 1) or '1type' as a synonym of type is deprecated; in a future version of numpy, it will be understood as (type, (1,)) / '(1,)type'.\n",
      "  _np_qint32 = np.dtype([(\"qint32\", np.int32, 1)])\n",
      "/usr/local/lib/python3.7/site-packages/tensorflow/python/framework/dtypes.py:525: FutureWarning: Passing (type, 1) or '1type' as a synonym of type is deprecated; in a future version of numpy, it will be understood as (type, (1,)) / '(1,)type'.\n",
      "  np_resource = np.dtype([(\"resource\", np.ubyte, 1)])\n",
      "/usr/local/lib/python3.7/site-packages/tensorboard/compat/tensorflow_stub/dtypes.py:541: FutureWarning: Passing (type, 1) or '1type' as a synonym of type is deprecated; in a future version of numpy, it will be understood as (type, (1,)) / '(1,)type'.\n",
      "  _np_qint8 = np.dtype([(\"qint8\", np.int8, 1)])\n",
      "/usr/local/lib/python3.7/site-packages/tensorboard/compat/tensorflow_stub/dtypes.py:542: FutureWarning: Passing (type, 1) or '1type' as a synonym of type is deprecated; in a future version of numpy, it will be understood as (type, (1,)) / '(1,)type'.\n",
      "  _np_quint8 = np.dtype([(\"quint8\", np.uint8, 1)])\n",
      "/usr/local/lib/python3.7/site-packages/tensorboard/compat/tensorflow_stub/dtypes.py:543: FutureWarning: Passing (type, 1) or '1type' as a synonym of type is deprecated; in a future version of numpy, it will be understood as (type, (1,)) / '(1,)type'.\n",
      "  _np_qint16 = np.dtype([(\"qint16\", np.int16, 1)])\n",
      "/usr/local/lib/python3.7/site-packages/tensorboard/compat/tensorflow_stub/dtypes.py:544: FutureWarning: Passing (type, 1) or '1type' as a synonym of type is deprecated; in a future version of numpy, it will be understood as (type, (1,)) / '(1,)type'.\n",
      "  _np_quint16 = np.dtype([(\"quint16\", np.uint16, 1)])\n",
      "/usr/local/lib/python3.7/site-packages/tensorboard/compat/tensorflow_stub/dtypes.py:545: FutureWarning: Passing (type, 1) or '1type' as a synonym of type is deprecated; in a future version of numpy, it will be understood as (type, (1,)) / '(1,)type'.\n",
      "  _np_qint32 = np.dtype([(\"qint32\", np.int32, 1)])\n",
      "/usr/local/lib/python3.7/site-packages/tensorboard/compat/tensorflow_stub/dtypes.py:550: FutureWarning: Passing (type, 1) or '1type' as a synonym of type is deprecated; in a future version of numpy, it will be understood as (type, (1,)) / '(1,)type'.\n",
      "  np_resource = np.dtype([(\"resource\", np.ubyte, 1)])\n"
     ]
    }
   ],
   "source": [
    "import sys\n",
    "import datetime\n",
    "from models.DeepPoseKit import stacked_densenet\n",
    "from models.DeepLabCut import deeplabcut\n",
    "from models.LEAP import LEAP\n",
    "from models.FlexibleBaseline import deconv_resnet_model, deconv_resnet_model_small, deconv_resnet_model_reduced\n",
    "from utils.eval_func import grp_eval_pck\n",
    "from training.train_func import train_generator\n",
    "from training.post_train import save_record, inference, get_joint_list, print_pck"
   ]
  },
  {
   "cell_type": "markdown",
   "metadata": {},
   "source": [
    "### 1. Folder Structure"
   ]
  },
  {
   "cell_type": "markdown",
   "metadata": {},
   "source": [
    "For the purpose of this example, we setup the `dataset` and `model` folders inside our current `example` folder. In practice, user should setup `dataset` and `model` folders in the same directory as `OptiFlex` code folder."
   ]
  },
  {
   "cell_type": "markdown",
   "metadata": {},
   "source": [
    "### 2. Specify Folder Locations and Training Hyperparameters"
   ]
  },
  {
   "cell_type": "code",
   "execution_count": 7,
   "metadata": {},
   "outputs": [],
   "source": [
    "# Dataset Info\n",
    "dataset_animal = \"fruitfly\"\n",
    "data_view = \"\"    # sd or btm only when animal is mouse\n",
    "\n",
    "# Model Info\n",
    "model_name = \"LEAP\"\n",
    "baseline_version = \"\"  # baseline version only apply to FlexibleBaseline\n",
    "\n",
    "# Input Folder Info\n",
    "train_img_folder = \"examples/dataset/trn_set_\" + dataset_animal + \"/img/\" + data_view\n",
    "train_lbl_folder = \"examples/dataset/trn_set_\" + dataset_animal + \"/lbl/\" + data_view\n",
    "ver_img_folder = \"examples/dataset/vld_set_\" + dataset_animal + \"/img/\" + data_view\n",
    "ver_lbl_folder = \"examples/dataset/vld_set_\" + dataset_animal + \"/lbl/\" + data_view\n",
    "test_img_folder = \"examples/dataset/tst_set_\" + dataset_animal + \"/img/\" + data_view\n",
    "test_lbl_folder = \"examples/dataset/tst_set_\" + dataset_animal + \"/lbl/\" + data_view\n",
    "frame_count = 40\n",
    "max_val = 16\n",
    "\n",
    "# Output Folder Info\n",
    "dataset_folder = \"examples/dataset/\"\n",
    "pred_js_folder = dataset_folder + \"pred_js_lbl\"\n",
    "pred_hm_folder = dataset_folder + \"pred_hm_lbl\"\n",
    "\n",
    "# Training Hyperparameters\n",
    "batch_size = 10\n",
    "epochs = 1\n",
    "learning_rate = 0.0001"
   ]
  },
  {
   "cell_type": "markdown",
   "metadata": {},
   "source": [
    "### 3. Automated Variable Initialization"
   ]
  },
  {
   "cell_type": "markdown",
   "metadata": {},
   "source": [
    "There are some parameters that can be interpreted from previously specified information about dataset and model, so the following code will initialize some variables base on those interpretations"
   ]
  },
  {
   "cell_type": "code",
   "execution_count": 8,
   "metadata": {},
   "outputs": [
    {
     "name": "stdout",
     "output_type": "stream",
     "text": [
      "WARNING:tensorflow:From /usr/local/lib/python3.7/site-packages/keras/backend/tensorflow_backend.py:4070: The name tf.nn.max_pool is deprecated. Please use tf.nn.max_pool2d instead.\n",
      "\n",
      "Model: \"model_1\"\n",
      "_________________________________________________________________\n",
      "Layer (type)                 Output Shape              Param #   \n",
      "=================================================================\n",
      "input_1 (InputLayer)         (None, 256, 256, 3)       0         \n",
      "_________________________________________________________________\n",
      "conv2d_1 (Conv2D)            (None, 256, 256, 64)      1792      \n",
      "_________________________________________________________________\n",
      "conv2d_2 (Conv2D)            (None, 256, 256, 64)      36928     \n",
      "_________________________________________________________________\n",
      "conv2d_3 (Conv2D)            (None, 256, 256, 64)      36928     \n",
      "_________________________________________________________________\n",
      "max_pooling2d_1 (MaxPooling2 (None, 128, 128, 64)      0         \n",
      "_________________________________________________________________\n",
      "conv2d_4 (Conv2D)            (None, 128, 128, 128)     73856     \n",
      "_________________________________________________________________\n",
      "conv2d_5 (Conv2D)            (None, 128, 128, 128)     147584    \n",
      "_________________________________________________________________\n",
      "conv2d_6 (Conv2D)            (None, 128, 128, 128)     147584    \n",
      "_________________________________________________________________\n",
      "max_pooling2d_2 (MaxPooling2 (None, 64, 64, 128)       0         \n",
      "_________________________________________________________________\n",
      "conv2d_7 (Conv2D)            (None, 64, 64, 256)       295168    \n",
      "_________________________________________________________________\n",
      "conv2d_8 (Conv2D)            (None, 64, 64, 256)       590080    \n",
      "_________________________________________________________________\n",
      "conv2d_9 (Conv2D)            (None, 64, 64, 256)       590080    \n",
      "_________________________________________________________________\n",
      "conv2d_transpose_1 (Conv2DTr (None, 128, 128, 128)     295040    \n",
      "_________________________________________________________________\n",
      "conv2d_10 (Conv2D)           (None, 128, 128, 128)     147584    \n",
      "_________________________________________________________________\n",
      "conv2d_11 (Conv2D)           (None, 128, 128, 128)     147584    \n",
      "_________________________________________________________________\n",
      "conv2d_transpose_2 (Conv2DTr (None, 256, 256, 32)      36896     \n",
      "=================================================================\n",
      "Total params: 2,547,104\n",
      "Trainable params: 2,547,104\n",
      "Non-trainable params: 0\n",
      "_________________________________________________________________\n"
     ]
    }
   ],
   "source": [
    "cur_time = datetime.datetime.now().strftime(\"%I:%M%p-%B-%d-%Y\")\n",
    "dataset_name = dataset_animal   # only changed when the animal is mouse\n",
    "joint_list = get_joint_list(dataset_animal)\n",
    "\n",
    "\n",
    "# configuration based on dataset\n",
    "if dataset_animal == \"mouse\":\n",
    "\n",
    "    dataset_name = dataset_name + \"_\" + data_view\n",
    "    num_joints = 8\n",
    "    img_width = 512\n",
    "    img_height = 128\n",
    "\n",
    "elif dataset_animal == \"monkey\":\n",
    "\n",
    "    num_joints = 7\n",
    "    img_width = 512\n",
    "    img_height = 256\n",
    "\n",
    "elif dataset_animal == \"fruitfly\":\n",
    "\n",
    "    num_joints = 32\n",
    "    img_width = 256\n",
    "    img_height = 256\n",
    "\n",
    "elif dataset_animal == \"zebrafish\":\n",
    "\n",
    "    num_joints = 12\n",
    "    img_width = 512\n",
    "    img_height = 256\n",
    "\n",
    "else:\n",
    "    print(\"Dataset for \" + dataset_animal + \" is not currently available.\")\n",
    "    sys.exit(\"Please choose dataset animal from mouse, monkey, fruitfly, or zebrafish\")\n",
    "\n",
    "# configuration based on model\n",
    "if model_name == \"StackedDenseNet\":\n",
    "\n",
    "    num_stage = 3\n",
    "    model = stacked_densenet(img_width, img_height, num_joints, learning_rate, 2)\n",
    "\n",
    "\n",
    "elif model_name == \"DeepLabCut\":\n",
    "\n",
    "    num_stage = 2\n",
    "    model = deeplabcut(img_width, img_height, num_joints, learning_rate)\n",
    "\n",
    "elif model_name == \"LEAP\":\n",
    "\n",
    "    num_stage = 1\n",
    "    model = LEAP(img_width, img_height, num_joints, learning_rate)\n",
    "\n",
    "elif model_name == \"FlexibleBaseline\":\n",
    "\n",
    "    model_name = baseline_version + model_name\n",
    "\n",
    "    if baseline_version == \"Standard\":\n",
    "        num_stage = 2\n",
    "        model = deconv_resnet_model(img_width, img_height, num_joints, learning_rate)\n",
    "    elif baseline_version == \"Reduced\":\n",
    "        num_stage = 2\n",
    "        model = deconv_resnet_model_reduced(img_width, img_height, num_joints, learning_rate)\n",
    "    elif baseline_version == \"Small\":\n",
    "        num_stage = 1\n",
    "        model = deconv_resnet_model_small(img_width, img_height, num_joints, learning_rate)\n",
    "    else:\n",
    "        sys.exit(baseline_version+\" not supported\")\n",
    "\n",
    "else:\n",
    "    print(model_name + \" is not currently a supported model.\")\n",
    "    sys.exit(\"We only support LEAP, StackedDenseNet, DeepLabCut, or FlexibleBaseline\")\n",
    "\n",
    "model_filename = \"_\".join([model_name, dataset_name, str(frame_count)+\"frame\", str(epochs)+\"ep\",\n",
    "                           str(learning_rate)+\"lr\", str(batch_size)+\"bs\", cur_time]) + \".model\"\n"
   ]
  },
  {
   "cell_type": "markdown",
   "metadata": {},
   "source": [
    "### 4. Train Model"
   ]
  },
  {
   "cell_type": "code",
   "execution_count": null,
   "metadata": {},
   "outputs": [],
   "source": [
    "model, history = train_generator(train_img_folder, train_lbl_folder, ver_img_folder, ver_lbl_folder,\n",
    "                                 model, num_stage, batch_size, epochs, max_val)"
   ]
  },
  {
   "cell_type": "markdown",
   "metadata": {},
   "source": [
    "### 5. Save Model and Training History"
   ]
  },
  {
   "cell_type": "code",
   "execution_count": null,
   "metadata": {},
   "outputs": [],
   "source": [
    "save_record(model, history, model_filename)"
   ]
  },
  {
   "cell_type": "code",
   "execution_count": null,
   "metadata": {},
   "outputs": [],
   "source": []
  }
 ],
 "metadata": {
  "kernelspec": {
   "display_name": "Python 3",
   "language": "python",
   "name": "python3"
  },
  "language_info": {
   "codemirror_mode": {
    "name": "ipython",
    "version": 3
   },
   "file_extension": ".py",
   "mimetype": "text/x-python",
   "name": "python",
   "nbconvert_exporter": "python",
   "pygments_lexer": "ipython3",
   "version": "3.7.5"
  }
 },
 "nbformat": 4,
 "nbformat_minor": 4
}
